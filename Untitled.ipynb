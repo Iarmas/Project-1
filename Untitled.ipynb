{
 "cells": [
  {
   "cell_type": "code",
   "execution_count": null,
   "metadata": {},
   "outputs": [],
   "source": [
    "import csv\n",
    "import pandas as pd\n",
    "from functools import reduce\n",
    "\n",
    "ags=pd.read_csv(\"Estados/Total_Aguascalientes.csv\")\n",
    "bc=pd.read_csv(\"Estados/Total_BajaCalifornia.csv\")\n",
    "bcs=pd.read_csv(\"Estados/Total_BajaSur.csv\")\n",
    "camp=pd.read_csv(\"Estados/Total_Campeche.csv\")\n",
    "cdmx=pd.read_csv(\"Estados/Total_CDMX.csv\")\n",
    "cdmx2=pd.read_csv(\"Estados/Total_CDMX2.csv\")\n",
    "chis=pd.read_csv(\"Estados/Total_Chiapas.csv\")\n",
    "chih=pd.read_csv(\"Estados/Total_Chihuahua.csv\")\n",
    "chih2=pd.read_csv(\"Estados/Total_Chihuahua2.csv\")\n",
    "coah=pd.read_csv(\"Estados/Total_Coahuila.csv\")\n",
    "col=pd.read_csv(\"Estados/Total_Colima.csv\")\n",
    "dgo=pd.read_csv(\"Estados/Total_Durango.csv\")\n",
    "edm=pd.read_csv(\"Estados/Total_EdoMex.csv\")\n",
    "edm2=pd.read_csv(\"Estados/Total_EdoMex2.csv\")\n",
    "edm3=pd.read_csv(\"Estados/Total_EdoMex3.csv\")\n",
    "gto=pd.read_csv(\"Estados/Total_Guanajuato.csv\")\n",
    "gro=pd.read_csv(\"Estados/Total_Guerrero.csv\")\n",
    "hgo=pd.read_csv(\"Estados/Total_Hidalgo.csv\")\n",
    "jal=pd.read_csv(\"Estados/Total_Jalisco.csv\")\n",
    "jal2=pd.read_csv(\"Estados/Total_Jalisco2.csv\")\n",
    "mich=pd.read_csv(\"Estados/Total_Michoacan.csv\")\n",
    "mich2=pd.read_csv(\"Estados/Total_Michoacan2.csv\")\n",
    "mor=pd.read_csv(\"Estados/Total_Morelos.csv\")\n",
    "nay=pd.read_csv(\"Estados/Total_Nayarit.csv\")\n",
    "nl=pd.read_csv(\"Estados/Total_NuevoLeon.csv\")\n",
    "nl2=pd.read_csv(\"Estados/Total_NuevoLeon2.csv\")\n",
    "oax=pd.read_csv(\"Estados/Total_Oaxaca.csv\")\n",
    "oax2=pd.read_csv(\"Estados/Total_Oaxaca2.csv\")\n",
    "pue=pd.read_csv(\"Estados/Total_Puebla.csv\")\n",
    "pue2=pd.read_csv(\"Estados/Total_Puebla2.csv\")\n",
    "qro=pd.read_csv(\"Estados/Total_Queretaro.csv\")\n",
    "qoo=pd.read_csv(\"Estados/Total_QuintanaRoo.csv\")\n",
    "slp=pd.read_csv(\"Estados/Total_SanLuisP.csv\")\n",
    "sin=pd.read_csv(\"Estados/Total_Sinaloa.csv\")\n",
    "son=pd.read_csv(\"Estados/Total_Sonora.csv\")\n",
    "son2=pd.read_csv(\"Estados/total_Sonora2.csv\")\n",
    "tab=pd.read_csv(\"Estados/Total_Tabasco.csv\")\n",
    "tam=pd.read_csv(\"Estados/Total_Tamaulipas.csv\")\n",
    "tam2=pd.read_csv(\"Estados/Total_Tamaulipas2.csv\")\n",
    "tlx=pd.read_csv(\"Estados/Total_Tlaxcala.csv\")\n",
    "ver=pd.read_csv(\"Estados/Total_Veracruz.csv\")\n",
    "ver2=pd.read_csv(\"Estados/Total_Veracruz2.csv\")\n",
    "yuc=pd.read_csv(\"Estados/Total_Yucatan.csv\")\n",
    "zac=pd.read_csv(\"Estados/Total_Zacatecas.csv\")\n",
    "\n",
    "dfs=[ags,bc,bcs,camp,cdmx,cdmx2,chis,chih,chih2,coah,col,dgo,edm,edm2,edm3,gto,gro,hgo,jal,jal2,mich,mich2,mor,nay,nl,nl2,oax,oax2,pue,pue2,qro,qoo,slp,sin,son,son2,tab,tam,tam2,tlx,ver,ver2,yuc,zac]\n",
    "\n",
    "df_final = reduce(lambda left,right: pd.merge(left,right,on=\"NOM_LOC\"), dfs)\n",
    "df_final\n"
   ]
  },
  {
   "cell_type": "code",
   "execution_count": null,
   "metadata": {},
   "outputs": [],
   "source": []
  }
 ],
 "metadata": {
  "kernelspec": {
   "display_name": "Python 3",
   "language": "python",
   "name": "python3"
  },
  "language_info": {
   "codemirror_mode": {
    "name": "ipython",
    "version": 3
   },
   "file_extension": ".py",
   "mimetype": "text/x-python",
   "name": "python",
   "nbconvert_exporter": "python",
   "pygments_lexer": "ipython3",
   "version": "3.7.3"
  }
 },
 "nbformat": 4,
 "nbformat_minor": 2
}
