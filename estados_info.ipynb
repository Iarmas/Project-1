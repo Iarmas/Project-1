{
 "cells": [
  {
   "cell_type": "code",
   "execution_count": 2,
   "metadata": {},
   "outputs": [
    {
     "ename": "KeyboardInterrupt",
     "evalue": "",
     "output_type": "error",
     "traceback": [
      "\u001b[0;31m---------------------------------------------------------------------------\u001b[0m",
      "\u001b[0;31mKeyboardInterrupt\u001b[0m                         Traceback (most recent call last)",
      "\u001b[0;32m<ipython-input-2-9c2f57dbc834>\u001b[0m in \u001b[0;36m<module>\u001b[0;34m\u001b[0m\n\u001b[1;32m     51\u001b[0m      \u001b[0;31m#cdmx,cdmx2,chis,chih,chih2,coah,col,dgo,edm,edm2,edm3,gto,gro,hgo,jal,jal2,mich,mich2,mor,nay,nl,nl2,oax,oax2,pue,pue2,qro,qoo,slp,sin,son,son2,tab,tam,tam2,tlx,ver,ver2,yuc,zac]\u001b[0m\u001b[0;34m\u001b[0m\u001b[0;34m\u001b[0m\u001b[0;34m\u001b[0m\u001b[0m\n\u001b[1;32m     52\u001b[0m \u001b[0;34m\u001b[0m\u001b[0m\n\u001b[0;32m---> 53\u001b[0;31m \u001b[0mdf_final\u001b[0m \u001b[0;34m=\u001b[0m \u001b[0mreduce\u001b[0m\u001b[0;34m(\u001b[0m\u001b[0;32mlambda\u001b[0m \u001b[0mleft\u001b[0m\u001b[0;34m,\u001b[0m\u001b[0mright\u001b[0m\u001b[0;34m:\u001b[0m \u001b[0mpd\u001b[0m\u001b[0;34m.\u001b[0m\u001b[0mmerge\u001b[0m\u001b[0;34m(\u001b[0m\u001b[0mleft\u001b[0m\u001b[0;34m,\u001b[0m\u001b[0mright\u001b[0m\u001b[0;34m,\u001b[0m\u001b[0mon\u001b[0m\u001b[0;34m=\u001b[0m\u001b[0;34m\"NOM_LOC\"\u001b[0m\u001b[0;34m)\u001b[0m\u001b[0;34m,\u001b[0m \u001b[0mdfs\u001b[0m\u001b[0;34m)\u001b[0m\u001b[0;34m\u001b[0m\u001b[0;34m\u001b[0m\u001b[0m\n\u001b[0m\u001b[1;32m     54\u001b[0m \u001b[0mdf_final\u001b[0m\u001b[0;34m.\u001b[0m\u001b[0mhead\u001b[0m\u001b[0;34m(\u001b[0m\u001b[0;34m)\u001b[0m\u001b[0;34m\u001b[0m\u001b[0;34m\u001b[0m\u001b[0m\n",
      "\u001b[0;32m<ipython-input-2-9c2f57dbc834>\u001b[0m in \u001b[0;36m<lambda>\u001b[0;34m(left, right)\u001b[0m\n\u001b[1;32m     51\u001b[0m      \u001b[0;31m#cdmx,cdmx2,chis,chih,chih2,coah,col,dgo,edm,edm2,edm3,gto,gro,hgo,jal,jal2,mich,mich2,mor,nay,nl,nl2,oax,oax2,pue,pue2,qro,qoo,slp,sin,son,son2,tab,tam,tam2,tlx,ver,ver2,yuc,zac]\u001b[0m\u001b[0;34m\u001b[0m\u001b[0;34m\u001b[0m\u001b[0;34m\u001b[0m\u001b[0m\n\u001b[1;32m     52\u001b[0m \u001b[0;34m\u001b[0m\u001b[0m\n\u001b[0;32m---> 53\u001b[0;31m \u001b[0mdf_final\u001b[0m \u001b[0;34m=\u001b[0m \u001b[0mreduce\u001b[0m\u001b[0;34m(\u001b[0m\u001b[0;32mlambda\u001b[0m \u001b[0mleft\u001b[0m\u001b[0;34m,\u001b[0m\u001b[0mright\u001b[0m\u001b[0;34m:\u001b[0m \u001b[0mpd\u001b[0m\u001b[0;34m.\u001b[0m\u001b[0mmerge\u001b[0m\u001b[0;34m(\u001b[0m\u001b[0mleft\u001b[0m\u001b[0;34m,\u001b[0m\u001b[0mright\u001b[0m\u001b[0;34m,\u001b[0m\u001b[0mon\u001b[0m\u001b[0;34m=\u001b[0m\u001b[0;34m\"NOM_LOC\"\u001b[0m\u001b[0;34m)\u001b[0m\u001b[0;34m,\u001b[0m \u001b[0mdfs\u001b[0m\u001b[0;34m)\u001b[0m\u001b[0;34m\u001b[0m\u001b[0;34m\u001b[0m\u001b[0m\n\u001b[0m\u001b[1;32m     54\u001b[0m \u001b[0mdf_final\u001b[0m\u001b[0;34m.\u001b[0m\u001b[0mhead\u001b[0m\u001b[0;34m(\u001b[0m\u001b[0;34m)\u001b[0m\u001b[0;34m\u001b[0m\u001b[0;34m\u001b[0m\u001b[0m\n",
      "\u001b[0;32m/anaconda3/lib/python3.7/site-packages/pandas/core/reshape/merge.py\u001b[0m in \u001b[0;36mmerge\u001b[0;34m(left, right, how, on, left_on, right_on, left_index, right_index, sort, suffixes, copy, indicator, validate)\u001b[0m\n\u001b[1;32m     46\u001b[0m                          \u001b[0mcopy\u001b[0m\u001b[0;34m=\u001b[0m\u001b[0mcopy\u001b[0m\u001b[0;34m,\u001b[0m \u001b[0mindicator\u001b[0m\u001b[0;34m=\u001b[0m\u001b[0mindicator\u001b[0m\u001b[0;34m,\u001b[0m\u001b[0;34m\u001b[0m\u001b[0;34m\u001b[0m\u001b[0m\n\u001b[1;32m     47\u001b[0m                          validate=validate)\n\u001b[0;32m---> 48\u001b[0;31m     \u001b[0;32mreturn\u001b[0m \u001b[0mop\u001b[0m\u001b[0;34m.\u001b[0m\u001b[0mget_result\u001b[0m\u001b[0;34m(\u001b[0m\u001b[0;34m)\u001b[0m\u001b[0;34m\u001b[0m\u001b[0;34m\u001b[0m\u001b[0m\n\u001b[0m\u001b[1;32m     49\u001b[0m \u001b[0;34m\u001b[0m\u001b[0m\n\u001b[1;32m     50\u001b[0m \u001b[0;34m\u001b[0m\u001b[0m\n",
      "\u001b[0;32m/anaconda3/lib/python3.7/site-packages/pandas/core/reshape/merge.py\u001b[0m in \u001b[0;36mget_result\u001b[0;34m(self)\u001b[0m\n\u001b[1;32m    558\u001b[0m             \u001b[0;34m[\u001b[0m\u001b[0;34m(\u001b[0m\u001b[0mldata\u001b[0m\u001b[0;34m,\u001b[0m \u001b[0mlindexers\u001b[0m\u001b[0;34m)\u001b[0m\u001b[0;34m,\u001b[0m \u001b[0;34m(\u001b[0m\u001b[0mrdata\u001b[0m\u001b[0;34m,\u001b[0m \u001b[0mrindexers\u001b[0m\u001b[0;34m)\u001b[0m\u001b[0;34m]\u001b[0m\u001b[0;34m,\u001b[0m\u001b[0;34m\u001b[0m\u001b[0;34m\u001b[0m\u001b[0m\n\u001b[1;32m    559\u001b[0m             \u001b[0maxes\u001b[0m\u001b[0;34m=\u001b[0m\u001b[0;34m[\u001b[0m\u001b[0mllabels\u001b[0m\u001b[0;34m.\u001b[0m\u001b[0mappend\u001b[0m\u001b[0;34m(\u001b[0m\u001b[0mrlabels\u001b[0m\u001b[0;34m)\u001b[0m\u001b[0;34m,\u001b[0m \u001b[0mjoin_index\u001b[0m\u001b[0;34m]\u001b[0m\u001b[0;34m,\u001b[0m\u001b[0;34m\u001b[0m\u001b[0;34m\u001b[0m\u001b[0m\n\u001b[0;32m--> 560\u001b[0;31m             concat_axis=0, copy=self.copy)\n\u001b[0m\u001b[1;32m    561\u001b[0m \u001b[0;34m\u001b[0m\u001b[0m\n\u001b[1;32m    562\u001b[0m         \u001b[0mtyp\u001b[0m \u001b[0;34m=\u001b[0m \u001b[0mself\u001b[0m\u001b[0;34m.\u001b[0m\u001b[0mleft\u001b[0m\u001b[0;34m.\u001b[0m\u001b[0m_constructor\u001b[0m\u001b[0;34m\u001b[0m\u001b[0;34m\u001b[0m\u001b[0m\n",
      "\u001b[0;32m/anaconda3/lib/python3.7/site-packages/pandas/core/internals/managers.py\u001b[0m in \u001b[0;36mconcatenate_block_managers\u001b[0;34m(mgrs_indexers, axes, concat_axis, copy)\u001b[0m\n\u001b[1;32m   2059\u001b[0m         \u001b[0;32melse\u001b[0m\u001b[0;34m:\u001b[0m\u001b[0;34m\u001b[0m\u001b[0;34m\u001b[0m\u001b[0m\n\u001b[1;32m   2060\u001b[0m             b = make_block(\n\u001b[0;32m-> 2061\u001b[0;31m                 \u001b[0mconcatenate_join_units\u001b[0m\u001b[0;34m(\u001b[0m\u001b[0mjoin_units\u001b[0m\u001b[0;34m,\u001b[0m \u001b[0mconcat_axis\u001b[0m\u001b[0;34m,\u001b[0m \u001b[0mcopy\u001b[0m\u001b[0;34m=\u001b[0m\u001b[0mcopy\u001b[0m\u001b[0;34m)\u001b[0m\u001b[0;34m,\u001b[0m\u001b[0;34m\u001b[0m\u001b[0;34m\u001b[0m\u001b[0m\n\u001b[0m\u001b[1;32m   2062\u001b[0m                 placement=placement)\n\u001b[1;32m   2063\u001b[0m         \u001b[0mblocks\u001b[0m\u001b[0;34m.\u001b[0m\u001b[0mappend\u001b[0m\u001b[0;34m(\u001b[0m\u001b[0mb\u001b[0m\u001b[0;34m)\u001b[0m\u001b[0;34m\u001b[0m\u001b[0;34m\u001b[0m\u001b[0m\n",
      "\u001b[0;32m/anaconda3/lib/python3.7/site-packages/pandas/core/internals/concat.py\u001b[0m in \u001b[0;36mconcatenate_join_units\u001b[0;34m(join_units, concat_axis, copy)\u001b[0m\n\u001b[1;32m    250\u001b[0m                 \u001b[0;31m# in JoinUnit.get_reindexed_values\u001b[0m\u001b[0;34m\u001b[0m\u001b[0;34m\u001b[0m\u001b[0;34m\u001b[0m\u001b[0m\n\u001b[1;32m    251\u001b[0m                 \u001b[0;32mif\u001b[0m \u001b[0mconcat_values\u001b[0m\u001b[0;34m.\u001b[0m\u001b[0mbase\u001b[0m \u001b[0;32mis\u001b[0m \u001b[0;32mnot\u001b[0m \u001b[0;32mNone\u001b[0m\u001b[0;34m:\u001b[0m\u001b[0;34m\u001b[0m\u001b[0;34m\u001b[0m\u001b[0m\n\u001b[0;32m--> 252\u001b[0;31m                     \u001b[0mconcat_values\u001b[0m \u001b[0;34m=\u001b[0m \u001b[0mconcat_values\u001b[0m\u001b[0;34m.\u001b[0m\u001b[0mcopy\u001b[0m\u001b[0;34m(\u001b[0m\u001b[0;34m)\u001b[0m\u001b[0;34m\u001b[0m\u001b[0;34m\u001b[0m\u001b[0m\n\u001b[0m\u001b[1;32m    253\u001b[0m             \u001b[0;32melse\u001b[0m\u001b[0;34m:\u001b[0m\u001b[0;34m\u001b[0m\u001b[0;34m\u001b[0m\u001b[0m\n\u001b[1;32m    254\u001b[0m                 \u001b[0mconcat_values\u001b[0m \u001b[0;34m=\u001b[0m \u001b[0mconcat_values\u001b[0m\u001b[0;34m.\u001b[0m\u001b[0mcopy\u001b[0m\u001b[0;34m(\u001b[0m\u001b[0;34m)\u001b[0m\u001b[0;34m\u001b[0m\u001b[0;34m\u001b[0m\u001b[0m\n",
      "\u001b[0;31mKeyboardInterrupt\u001b[0m: "
     ]
    }
   ],
   "source": [
    "import csv\n",
    "import pandas as pd\n",
    "from functools import reduce\n",
    "\n",
    "ags=pd.read_csv(\"Estados/Total_Aguascalientes.csv\")\n",
    "bc=pd.read_csv(\"Estados/Total_BajaCalifornia.csv\")\n",
    "bcs=pd.read_csv(\"Estados/Total_BajaSur.csv\")\n",
    "camp=pd.read_csv(\"Estados/Total_Campeche.csv\")\n",
    "#cdmx=pd.read_csv(\"Estados/Total_CDMX.csv\")\n",
    "#cdmx2=pd.read_csv(\"Estados/Total_CDMX2.csv\")\n",
    "#chis=pd.read_csv(\"Estados/Total_Chiapas.csv\")\n",
    "#chih=pd.read_csv(\"Estados/Total_Chihuahua.csv\")\n",
    "#chih2=pd.read_csv(\"Estados/Total_Chihuahua2.csv\")\n",
    "#coah=pd.read_csv(\"Estados/Total_Coahuila.csv\")\n",
    "#col=pd.read_csv(\"Estados/Total_Colima.csv\")\n",
    "#dgo=pd.read_csv(\"Estados/Total_Durango.csv\")\n",
    "#edm=pd.read_csv(\"Estados/Total_EdoMex.csv\")\n",
    "#edm2=pd.read_csv(\"Estados/Total_EdoMex2.csv\")\n",
    "#edm3=pd.read_csv(\"Estados/Total_EdoMex3.csv\")\n",
    "#gto=pd.read_csv(\"Estados/Total_Guanajuato.csv\")\n",
    "#gro=pd.read_csv(\"Estados/Total_Guerrero.csv\")\n",
    "#hgo=pd.read_csv(\"Estados/Total_Hidalgo.csv\")\n",
    "#jal=pd.read_csv(\"Estados/Total_Jalisco.csv\")\n",
    "#jal2=pd.read_csv(\"Estados/Total_Jalisco2.csv\")\n",
    "#mich=pd.read_csv(\"Estados/Total_Michoacan.csv\")\n",
    "#mich2=pd.read_csv(\"Estados/Total_Michoacan2.csv\")\n",
    "#mor=pd.read_csv(\"Estados/Total_Morelos.csv\")\n",
    "#nay=pd.read_csv(\"Estados/Total_Nayarit.csv\")\n",
    "#nl=pd.read_csv(\"Estados/Total_NuevoLeon.csv\")\n",
    "#nl2=pd.read_csv(\"Estados/Total_NuevoLeon2.csv\")\n",
    "#oax=pd.read_csv(\"Estados/Total_Oaxaca.csv\")\n",
    "#oax2=pd.read_csv(\"Estados/Total_Oaxaca2.csv\")\n",
    "#pue=pd.read_csv(\"Estados/Total_Puebla.csv\")\n",
    "#pue2=pd.read_csv(\"Estados/Total_Puebla2.csv\")\n",
    "#qro=pd.read_csv(\"Estados/Total_Queretaro.csv\")\n",
    "#qoo=pd.read_csv(\"Estados/Total_QuintanaRoo.csv\")\n",
    "#slp=pd.read_csv(\"Estados/Total_SanLuisP.csv\")\n",
    "#sin=pd.read_csv(\"Estados/Total_Sinaloa.csv\")\n",
    "#son=pd.read_csv(\"Estados/Total_Sonora.csv\")\n",
    "#son2=pd.read_csv(\"Estados/total_Sonora2.csv\")\n",
    "#tab=pd.read_csv(\"Estados/Total_Tabasco.csv\")\n",
    "#tam=pd.read_csv(\"Estados/Total_Tamaulipas.csv\")\n",
    "#tam2=pd.read_csv(\"Estados/Total_Tamaulipas2.csv\")\n",
    "#tlx=pd.read_csv(\"Estados/Total_Tlaxcala.csv\")\n",
    "#ver=pd.read_csv(\"Estados/Total_Veracruz.csv\")\n",
    "#ver2=pd.read_csv(\"Estados/Total_Veracruz2.csv\")\n",
    "#yuc=pd.read_csv(\"Estados/Total_Yucatan.csv\")\n",
    "#zac=pd.read_csv(\"Estados/Total_Zacatecas.csv\")\n",
    "\n",
    "dfs=[ags,bc,bcs,camp]\n",
    "     #cdmx,cdmx2,chis,chih,chih2,coah,col,dgo,edm,edm2,edm3,gto,gro,hgo,jal,jal2,mich,mich2,mor,nay,nl,nl2,oax,oax2,pue,pue2,qro,qoo,slp,sin,son,son2,tab,tam,tam2,tlx,ver,ver2,yuc,zac]\n",
    "\n",
    "df_final = reduce(lambda left,right: pd.merge(left,right,on=\"NOM_LOC\"), dfs)\n",
    "df_final.head()\n"
   ]
  },
  {
   "cell_type": "code",
   "execution_count": null,
   "metadata": {},
   "outputs": [],
   "source": []
  },
  {
   "cell_type": "code",
   "execution_count": null,
   "metadata": {},
   "outputs": [],
   "source": []
  }
 ],
 "metadata": {
  "kernelspec": {
   "display_name": "Python 3",
   "language": "python",
   "name": "python3"
  }
 },
 "nbformat": 4,
 "nbformat_minor": 2
}
